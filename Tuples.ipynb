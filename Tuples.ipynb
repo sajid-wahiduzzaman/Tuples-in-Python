{
 "cells": [
  {
   "cell_type": "code",
   "execution_count": 1,
   "id": "a7a0fbfa",
   "metadata": {},
   "outputs": [
    {
     "name": "stdout",
     "output_type": "stream",
     "text": [
      "('Spain', 'Italy', 'Wales', 'Germany', 'Russia')\n"
     ]
    }
   ],
   "source": [
    "#Tuples\n",
    "\n",
    "countries=(\"Spain\",\"Italy\",\"France\",\"England\",\"Germany\")\n",
    "temp =list(countries)\n",
    "temp.append(\"Russia\")\n",
    "temp.pop(3)\n",
    "temp[2] = \"Wales\"\n",
    "countries = tuple(temp)\n",
    "print(countries)"
   ]
  },
  {
   "cell_type": "code",
   "execution_count": 5,
   "id": "21710ba2",
   "metadata": {},
   "outputs": [
    {
     "name": "stdout",
     "output_type": "stream",
     "text": [
      "banana\n",
      "banana\n"
     ]
    }
   ],
   "source": [
    "fruits = (\"apple\",\"banana\",\"cherry\")\n",
    "l = list(fruits)\n",
    "m=l[1]\n",
    "print(m)\n",
    "\n",
    "print(fruits[1])\n"
   ]
  },
  {
   "cell_type": "code",
   "execution_count": 11,
   "id": "4ed63b25",
   "metadata": {},
   "outputs": [
    {
     "name": "stdout",
     "output_type": "stream",
     "text": [
      "(1, 2, 3)\n"
     ]
    }
   ],
   "source": [
    "n = (1,2,3,4,5)\n",
    "#print(n[-1])\n",
    "print(n[0:3])"
   ]
  },
  {
   "cell_type": "code",
   "execution_count": 16,
   "id": "bfe79007",
   "metadata": {},
   "outputs": [
    {
     "name": "stdout",
     "output_type": "stream",
     "text": [
      "(1, 20, 3, 4)\n"
     ]
    }
   ],
   "source": [
    "n = (1,2,3,4)\n",
    "tem = list(n)\n",
    "tem[1]= 20\n",
    "n = tuple(tem)\n",
    "print(n)"
   ]
  },
  {
   "cell_type": "code",
   "execution_count": null,
   "id": "aa36bbde",
   "metadata": {},
   "outputs": [
    {
     "name": "stdout",
     "output_type": "stream",
     "text": [
      "Name: Alice\n",
      "Age: 25\n",
      "Profession: Doctor\n"
     ]
    }
   ],
   "source": [
    "p=(\"Alice\",25,\"Doctor\")\n",
    "name, age, Profession = p\n",
    "print(\"Name:\",\"Alice\")\n",
    "print(\"Age:\",25)\n",
    "print(\"Profession:\",\"Doctor\")"
   ]
  },
  {
   "cell_type": "code",
   "execution_count": 2,
   "id": "4fad2df1",
   "metadata": {},
   "outputs": [
    {
     "name": "stdout",
     "output_type": "stream",
     "text": [
      "a= 1\n",
      "b= 2\n",
      "rest= [3, 4, 5, 6]\n"
     ]
    }
   ],
   "source": [
    "n = (1,2,3,4,5,6)\n",
    "a=1\n",
    "b=2\n",
    "rest=[3,4,5,6]\n",
    "print(\"a=\",a)\n",
    "print(\"b=\",b)\n",
    "print(\"rest=\",rest)"
   ]
  },
  {
   "cell_type": "code",
   "execution_count": 3,
   "id": "fee12d8d",
   "metadata": {},
   "outputs": [
    {
     "name": "stdout",
     "output_type": "stream",
     "text": [
      "Age 25\n",
      "profession Doctor\n"
     ]
    }
   ],
   "source": [
    "p=(\"Alice\",(25,\"Doctor\"),\"DC\")\n",
    "age , profession = p[1]\n",
    "print(\"Age\",age)\n",
    "print(\"profession\",profession)"
   ]
  }
 ],
 "metadata": {
  "kernelspec": {
   "display_name": "Python 3",
   "language": "python",
   "name": "python3"
  },
  "language_info": {
   "codemirror_mode": {
    "name": "ipython",
    "version": 3
   },
   "file_extension": ".py",
   "mimetype": "text/x-python",
   "name": "python",
   "nbconvert_exporter": "python",
   "pygments_lexer": "ipython3",
   "version": "3.13.3"
  }
 },
 "nbformat": 4,
 "nbformat_minor": 5
}
